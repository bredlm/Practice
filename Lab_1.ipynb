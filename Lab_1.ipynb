{
  "nbformat": 4,
  "nbformat_minor": 0,
  "metadata": {
    "colab": {
      "name": "Lab 1.ipynb",
      "provenance": [],
      "authorship_tag": "ABX9TyN4Tt/fnUZMXx5t7Q4YAdEI",
      "include_colab_link": true
    },
    "kernelspec": {
      "name": "python3",
      "display_name": "Python 3"
    }
  },
  "cells": [
    {
      "cell_type": "markdown",
      "metadata": {
        "id": "view-in-github",
        "colab_type": "text"
      },
      "source": [
        "<a href=\"https://colab.research.google.com/github/bredlm/Practice/blob/master/Lab_1.ipynb\" target=\"_parent\"><img src=\"https://colab.research.google.com/assets/colab-badge.svg\" alt=\"Open In Colab\"/></a>"
      ]
    },
    {
      "cell_type": "markdown",
      "metadata": {
        "id": "juJB643pjvfG",
        "colab_type": "text"
      },
      "source": [
        "# Lab 1"
      ]
    },
    {
      "cell_type": "markdown",
      "metadata": {
        "id": "zwZNNtpkjz9f",
        "colab_type": "text"
      },
      "source": [
        "##Do you like using Jupyiter Notebooks"
      ]
    },
    {
      "cell_type": "markdown",
      "metadata": {
        "id": "5R2aRPYFkBGc",
        "colab_type": "text"
      },
      "source": [
        "I do like juypiter notebooks. It is very easy to write code, comments, and display visuals. I used jupyiter notebook last semester for DS 200 and really enjoyed it."
      ]
    },
    {
      "cell_type": "markdown",
      "metadata": {
        "id": "U1eRUT0_kj4o",
        "colab_type": "text"
      },
      "source": [
        "##What do you want to learn more about in juypiter notbooks"
      ]
    },
    {
      "cell_type": "markdown",
      "metadata": {
        "id": "DVnkuATBky-g",
        "colab_type": "text"
      },
      "source": [
        "Last semester in DS 200 I used a few imports to display visuals the lined up with my data, this is something i want to learn more about. In addition, using SQL seems really valuable so i would hope to learn more about that as well"
      ]
    },
    {
      "cell_type": "markdown",
      "metadata": {
        "id": "RyVOckQjnD-B",
        "colab_type": "text"
      },
      "source": [
        "##Picture"
      ]
    },
    {
      "cell_type": "markdown",
      "metadata": {
        "id": "U9aCRvdWnTY6",
        "colab_type": "text"
      },
      "source": [
        "![image](https://raw.githubusercontent.com/bredlm/Practice/master/Images/85.jpeg)"
      ]
    }
  ]
}